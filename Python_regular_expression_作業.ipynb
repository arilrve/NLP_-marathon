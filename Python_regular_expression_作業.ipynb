{
 "cells": [
  {
   "cell_type": "markdown",
   "metadata": {
    "colab_type": "text",
    "id": "tTJolmzeBLGr"
   },
   "source": [
    "# 作業目標: 使用python正規表達式對資料進行清洗處理\n",
    "\n",
    "這份作業我們會使用詐欺郵件的文本資料來作為清洗與處理的操作。\n",
    "[資料集](https://www.kaggle.com/rtatman/fraudulent-email-corpus/data#)"
   ]
  },
  {
   "cell_type": "markdown",
   "metadata": {
    "colab_type": "text",
    "id": "vhv0OElTBLGs"
   },
   "source": [
    "### 讀入資料文本\n",
    "因原始文本較大，先使用部份擷取的**sample_emails.txt**來進行練習"
   ]
  },
  {
   "cell_type": "code",
   "execution_count": 160,
   "metadata": {
    "colab": {},
    "colab_type": "code",
    "id": "a0BdDqt1BLGt"
   },
   "outputs": [],
   "source": [
    "#讀取文本資料\n",
    "import re\n",
    "with open('sample_emails.txt','r') as sample_corpus :\n",
    "    txt = sample_corpus.read()"
   ]
  },
  {
   "cell_type": "markdown",
   "metadata": {
    "colab_type": "text",
    "id": "aUg8HenSBLG2"
   },
   "source": [
    "### 讀取寄件者資訊\n",
    "觀察文本資料可以發現, 寄件者資訊都符合以下格式\n",
    "\n",
    "`From: <收件者姓名> <收件者電子郵件>`"
   ]
  },
  {
   "cell_type": "code",
   "execution_count": 161,
   "metadata": {
    "colab": {},
    "colab_type": "code",
    "id": "YgsUuHsfBLG2"
   },
   "outputs": [
    {
     "data": {
      "text/plain": [
       "['From: \"MR. JAMES NGOLA.\" <james_ngola2002@maktoob.com>',\n",
       " 'From: \"Mr. Ben Suleman\" <bensul2004nng@spinfinder.com>',\n",
       " 'From: \"PRINCE OBONG ELEME\" <obong_715@epatra.com>']"
      ]
     },
     "execution_count": 161,
     "metadata": {},
     "output_type": "execute_result"
    }
   ],
   "source": [
    "pattern = r\"From: .*\"\n",
    "match = re.findall(pattern,txt)\n",
    "match"
   ]
  },
  {
   "cell_type": "markdown",
   "metadata": {
    "colab_type": "text",
    "id": "Ac8KHAqTBLG7"
   },
   "source": [
    "### 只讀取寄件者姓名"
   ]
  },
  {
   "cell_type": "code",
   "execution_count": 162,
   "metadata": {
    "colab": {},
    "colab_type": "code",
    "id": "coBDE2iBBLG8",
    "outputId": "aada7b60-56bb-45ae-f25f-941218a541c2"
   },
   "outputs": [
    {
     "data": {
      "text/plain": [
       "['MR. JAMES NGOLA.', 'Mr. Ben Suleman', 'PRINCE OBONG ELEME']"
      ]
     },
     "execution_count": 162,
     "metadata": {},
     "output_type": "execute_result"
    }
   ],
   "source": [
    "pattern = r\"From:\\s\\\"(.*)\\\"\"\n",
    "match = re.findall(pattern,txt)\n",
    "match"
   ]
  },
  {
   "cell_type": "markdown",
   "metadata": {
    "colab_type": "text",
    "id": "gaJefecaBLG-"
   },
   "source": [
    "### 只讀取寄件者電子信箱"
   ]
  },
  {
   "cell_type": "code",
   "execution_count": 163,
   "metadata": {
    "colab": {},
    "colab_type": "code",
    "id": "G55ADKW_BLG_",
    "outputId": "7f3d9657-87b9-4c78-d324-3df919ee84a7"
   },
   "outputs": [
    {
     "data": {
      "text/plain": [
       "['james_ngola2002@maktoob.com',\n",
       " 'bensul2004nng@spinfinder.com',\n",
       " 'obong_715@epatra.com']"
      ]
     },
     "execution_count": 163,
     "metadata": {},
     "output_type": "execute_result"
    }
   ],
   "source": [
    "pattern = r\"From:.*\\<(.*)\\>\"\n",
    "match = re.findall(pattern,txt)\n",
    "match"
   ]
  },
  {
   "cell_type": "markdown",
   "metadata": {
    "colab_type": "text",
    "id": "t-RXjNLiBLHC"
   },
   "source": [
    "### 只讀取電子信箱中的寄件機構資訊\n",
    "ex: james_ngola2002@maktoob.com --> 取maktoob"
   ]
  },
  {
   "cell_type": "code",
   "execution_count": 164,
   "metadata": {
    "colab": {},
    "colab_type": "code",
    "id": "qC2Sd6_SBLHC",
    "outputId": "14e4e148-a660-4a15-88ac-e781300c9767"
   },
   "outputs": [
    {
     "name": "stdout",
     "output_type": "stream",
     "text": [
      "Match text: maktoob\n",
      "Match text: spinfinder\n",
      "Match text: epatra\n"
     ]
    }
   ],
   "source": [
    "pattern = r\"From:.*\\@(\\w+).com>\"\n",
    "match = re.finditer(pattern,txt)\n",
    "for ma in match:\n",
    "    print(f'Match text: {ma.group(1)}',end='\\n') #使用.group() or .group(0)返回配對的字串"
   ]
  },
  {
   "cell_type": "markdown",
   "metadata": {
    "colab_type": "text",
    "id": "vfzkuLCWBLHG"
   },
   "source": [
    "### 結合上面的配對方式, 將寄件者的帳號與機構訊返回\n",
    "ex: james_ngola2002@maktoob.com --> [james_ngola2002, maktoob]"
   ]
  },
  {
   "cell_type": "code",
   "execution_count": 165,
   "metadata": {
    "colab": {},
    "colab_type": "code",
    "id": "t3lTRThcBLHG",
    "outputId": "e94f295a-ffa4-4897-dc43-e93991aac20e"
   },
   "outputs": [
    {
     "name": "stdout",
     "output_type": "stream",
     "text": [
      "Match text: james_ngola2002\n",
      "Match text: maktoob\n",
      "\n",
      "----分隔線----\n",
      "Match text: bensul2004nng\n",
      "Match text: spinfinder\n",
      "\n",
      "----分隔線----\n",
      "Match text: obong_715\n",
      "Match text: epatra\n",
      "\n",
      "----分隔線----\n"
     ]
    }
   ],
   "source": [
    "pattern = r\"From:.*<(\\w+)\\@(\\w+).com>\"\n",
    "match = re.finditer(pattern,txt)\n",
    "for ma in match:\n",
    "    print(f'Match text: {ma.group(1)}') #使用.group() or .group(0)返回配對的字串\n",
    "    print(f'Match text: {ma.group(2)}')\n",
    "    print('\\n----分隔線----')"
   ]
  },
  {
   "cell_type": "markdown",
   "metadata": {
    "colab_type": "text",
    "id": "Yl-BMduNBLHJ"
   },
   "source": [
    "### 使用正規表達式對email資料進行處理\n",
    "這裡我們會使用到python其他的套件協助處理(ex: pandas, email, etc)，這裡我們只需要專注在正規表達式上即可，其他的套件是方便我們整理與處理資料。"
   ]
  },
  {
   "cell_type": "markdown",
   "metadata": {
    "colab_type": "text",
    "id": "kqCacQ9tBLHJ"
   },
   "source": [
    "### 讀取與切分Email\n",
    "讀入的email為一個長字串，利用正規表達式切割讀入的資料成一封一封的email，並將結果以list表示。\n",
    "\n",
    "輸出: [email_1, email_2, email_3, ....]"
   ]
  },
  {
   "cell_type": "code",
   "execution_count": 207,
   "metadata": {
    "colab": {},
    "colab_type": "code",
    "id": "k9BCVTqoBLHK",
    "outputId": "656ffc81-cb9b-4174-8511-9013985c4cad"
   },
   "outputs": [
    {
     "data": {
      "text/plain": [
       "3977"
      ]
     },
     "execution_count": 207,
     "metadata": {},
     "output_type": "execute_result"
    }
   ],
   "source": [
    "import re\n",
    "import pandas as pd\n",
    "import email\n",
    "\n",
    "###讀取文本資料: all_emails.txt###\n",
    "with open('all_emails.txt', encoding='utf-8') as all_emails:\n",
    "    text = all_emails.read()\n",
    "    \n",
    "###切割讀入的資料成一封一封的email###\n",
    "###我們可以使用list來儲存每一封email###\n",
    "###注意！這裡請仔細觀察sample資料，看資料是如何切分不同email###\n",
    "emails = re.split(r'From r', text)[1:]\n",
    "\n",
    "len(emails) #查看有多少封email"
   ]
  },
  {
   "cell_type": "markdown",
   "metadata": {
    "colab_type": "text",
    "id": "e9IN-2o0BLHM"
   },
   "source": [
    "### 從文本中擷取所有寄件者與收件者的姓名和地址"
   ]
  },
  {
   "cell_type": "code",
   "execution_count": 226,
   "metadata": {
    "colab": {},
    "colab_type": "code",
    "id": "d_WRYFpcBLHM"
   },
   "outputs": [],
   "source": [
    "emails_list = [] #創建空list來儲存所有email資訊\n",
    "\n",
    "for mail in emails[:20]: #只取前20筆資料 (處理速度比較快)\n",
    "    emails_dict = dict() #創建空字典儲存資訊\n",
    "    ###取的寄件者姓名與地址###\n",
    "    \n",
    "    #Step1: 取的寄件者資訊 (hint: From:)\n",
    "    send = r'From:.*'\n",
    "    send_from = re.search(send,mail) \n",
    "    \n",
    "    #Step2: 取的姓名與地址 (hint: 要注意有時會有沒取到配對的情況)\n",
    "    if send_from :\n",
    "        send_name = re.search(r\"\\s\\\"(.*)\\\"\",send_from.group())\n",
    "        send_address =  re.search(r\"\\<(.*)\\>\", send_from.group())\n",
    "    else :\n",
    "        send_name , send_address = None, None\n",
    "    #Step3: 將取得的姓名與地址存入字典中\n",
    "    emails_dict['send_name'] = send_name.group() if send_name else None\n",
    "    emails_dict['send_address'] = send_address.group() if send_address else None\n",
    "        \n",
    "    \n",
    "    ###取的收件者姓名與地址###\n",
    "    #Step1: 取的寄件者資訊 (hint: To:)\n",
    "    receive = r'To:.*'\n",
    "    receive_by = re.search(receive,mail) \n",
    "    \n",
    "    #Step2: 取的姓名與地址 (hint: 要注意有時會有沒取到配對的情況)\n",
    "    if receive_by:\n",
    "        receive_name = re.search(r\"\\s(\\w+)\",receive_by.group())\n",
    "        receive_address =  re.search(r\"\", receive_by.group())\n",
    "    else :\n",
    "        receive_name , receive_address = None, None\n",
    "        \n",
    "    #Step3: 將取得的姓名與地址存入字典中\n",
    "    emails_dict['receive_name'] = receive_name.group() if receive_name else None\n",
    "    emails_dict['receive_address'] = receive_address.group() if receive_address else None\n",
    "        \n",
    "        \n",
    "    ###取得信件日期###\n",
    "    #Step1: 取得日期資訊 (hint: Date:)\n",
    "    date = re.search(r'Date:.*', mail)\n",
    "    \n",
    "    #Step2: 取得詳細日期(只需取得DD MMM YYYY)\n",
    "    date_info = re.search(r'\\d+\\s\\w+\\s\\d+', date.group()) if date else None\n",
    "        \n",
    "    #Step3: 將取得的日期資訊存入字典中\n",
    "    emails_dict['Date'] = date_info.group() if date_info else None\n",
    "        \n",
    "        \n",
    "    ###取得信件主旨###\n",
    "    #Step1: 取得主旨資訊 (hint: Subject:)\n",
    "    subject_info = re.search(r'Subject:.*', mail)\n",
    "    \n",
    "    #Step2: 移除不必要文字 (hint: Subject: )\n",
    "    subject = re.sub(r'Subject: ', '', subject_info.group()) if subject_info else None\n",
    "    \n",
    "    #Step3: 將取得的主旨存入字典中\n",
    "    emails_dict['Subject'] = subject\n",
    "    \n",
    "    \n",
    "    ###取得信件內文###\n",
    "    #這裡我們使用email package來取出email內文 (可以不需深究，本章節重點在正規表達式)\n",
    "    try:\n",
    "        full_email = email.message_from_string(mail)\n",
    "        body = full_email.get_payload()\n",
    "        emails_dict[\"email_body\"] = body\n",
    "    except:\n",
    "        emails_dict[\"email_body\"] = None\n",
    "    \n",
    "    ###將字典加入list###\n",
    "    emails_list.append(emails_dict)"
   ]
  },
  {
   "cell_type": "code",
   "execution_count": 227,
   "metadata": {
    "colab": {},
    "colab_type": "code",
    "id": "CBfQRiYPBLHP"
   },
   "outputs": [
    {
     "data": {
      "text/html": [
       "<div>\n",
       "<style scoped>\n",
       "    .dataframe tbody tr th:only-of-type {\n",
       "        vertical-align: middle;\n",
       "    }\n",
       "\n",
       "    .dataframe tbody tr th {\n",
       "        vertical-align: top;\n",
       "    }\n",
       "\n",
       "    .dataframe thead th {\n",
       "        text-align: right;\n",
       "    }\n",
       "</style>\n",
       "<table border=\"1\" class=\"dataframe\">\n",
       "  <thead>\n",
       "    <tr style=\"text-align: right;\">\n",
       "      <th></th>\n",
       "      <th>send_name</th>\n",
       "      <th>send_address</th>\n",
       "      <th>receive_name</th>\n",
       "      <th>receive_address</th>\n",
       "      <th>Date</th>\n",
       "      <th>Subject</th>\n",
       "      <th>email_body</th>\n",
       "    </tr>\n",
       "  </thead>\n",
       "  <tbody>\n",
       "    <tr>\n",
       "      <th>0</th>\n",
       "      <td>\"MR. JAMES NGOLA.\"</td>\n",
       "      <td>&lt;james_ngola2002@maktoob.com&gt;</td>\n",
       "      <td>james_ngola2002@</td>\n",
       "      <td></td>\n",
       "      <td>31 Oct 2002</td>\n",
       "      <td>URGENT BUSINESS ASSISTANCE AND PARTNERSHIP</td>\n",
       "      <td>FROM:MR. JAMES NGOLA.\\nCONFIDENTIAL TEL: 233-2...</td>\n",
       "    </tr>\n",
       "    <tr>\n",
       "      <th>1</th>\n",
       "      <td>\"Mr. Ben Suleman\"</td>\n",
       "      <td>&lt;bensul2004nng@spinfinder.com&gt;</td>\n",
       "      <td>R@</td>\n",
       "      <td></td>\n",
       "      <td>31 Oct 2002</td>\n",
       "      <td>URGENT ASSISTANCE /RELATIONSHIP (P)</td>\n",
       "      <td>Dear Friend,\\n\\nI am Mr. Ben Suleman a custom ...</td>\n",
       "    </tr>\n",
       "    <tr>\n",
       "      <th>2</th>\n",
       "      <td>\"PRINCE OBONG ELEME\"</td>\n",
       "      <td>&lt;obong_715@epatra.com&gt;</td>\n",
       "      <td>obong_715@</td>\n",
       "      <td></td>\n",
       "      <td>31 Oct 2002</td>\n",
       "      <td>GOOD DAY TO YOU</td>\n",
       "      <td>FROM HIS ROYAL MAJESTY (HRM) CROWN RULER OF EL...</td>\n",
       "    </tr>\n",
       "    <tr>\n",
       "      <th>3</th>\n",
       "      <td>\"PRINCE OBONG ELEME\"</td>\n",
       "      <td>&lt;obong_715@epatra.com&gt;</td>\n",
       "      <td>webmaster@</td>\n",
       "      <td></td>\n",
       "      <td>31 Oct 2002</td>\n",
       "      <td>GOOD DAY TO YOU</td>\n",
       "      <td>FROM HIS ROYAL MAJESTY (HRM) CROWN RULER OF EL...</td>\n",
       "    </tr>\n",
       "    <tr>\n",
       "      <th>4</th>\n",
       "      <td>\"Maryam Abacha\"</td>\n",
       "      <td>&lt;m_abacha03@www.com&gt;</td>\n",
       "      <td>m_abacha03@</td>\n",
       "      <td></td>\n",
       "      <td>1 Nov 2002</td>\n",
       "      <td>I Need Your Assistance.</td>\n",
       "      <td>Dear sir, \\n \\nIt is with a heart full of hope...</td>\n",
       "    </tr>\n",
       "    <tr>\n",
       "      <th>5</th>\n",
       "      <td>None</td>\n",
       "      <td>&lt;davidkuta@postmark.net&gt;</td>\n",
       "      <td>davidkuta@</td>\n",
       "      <td></td>\n",
       "      <td>02 Nov 2002</td>\n",
       "      <td>Partnership</td>\n",
       "      <td>ATTENTION:                                    ...</td>\n",
       "    </tr>\n",
       "    <tr>\n",
       "      <th>6</th>\n",
       "      <td>\"Barrister tunde dosumu\"</td>\n",
       "      <td>&lt;tunde_dosumu@lycos.com&gt;</td>\n",
       "      <td>tunde_dosumu@</td>\n",
       "      <td></td>\n",
       "      <td>None</td>\n",
       "      <td>Urgent Attention</td>\n",
       "      <td>Dear Sir,\\n\\nI am Barrister Tunde Dosumu (SAN)...</td>\n",
       "    </tr>\n",
       "    <tr>\n",
       "      <th>7</th>\n",
       "      <td>\"William Drallo\"</td>\n",
       "      <td>&lt;william2244drallo@maktoob.com&gt;</td>\n",
       "      <td>william2244drallo@</td>\n",
       "      <td></td>\n",
       "      <td>3 Nov 2002</td>\n",
       "      <td>URGENT BUSINESS PRPOSAL</td>\n",
       "      <td>FROM: WILLIAM DRALLO.\\nCONFIDENTIAL TEL: 233-2...</td>\n",
       "    </tr>\n",
       "    <tr>\n",
       "      <th>8</th>\n",
       "      <td>\"MR USMAN ABDUL\"</td>\n",
       "      <td>&lt;abdul_817@rediffmail.com&gt;</td>\n",
       "      <td>R@</td>\n",
       "      <td></td>\n",
       "      <td>04 Nov 2002</td>\n",
       "      <td>THANK YOU</td>\n",
       "      <td>CHALLENGE SECURITIES LTD.\\nLAGOS, NIGERIA\\n\\n\\...</td>\n",
       "    </tr>\n",
       "    <tr>\n",
       "      <th>9</th>\n",
       "      <td>\"Tunde  Dosumu\"</td>\n",
       "      <td>&lt;barrister_td@lycos.com&gt;</td>\n",
       "      <td>barrister_td@</td>\n",
       "      <td></td>\n",
       "      <td>None</td>\n",
       "      <td>Urgent Assistance</td>\n",
       "      <td>Dear Sir,\\n\\nI am Barrister Tunde Dosumu (SAN)...</td>\n",
       "    </tr>\n",
       "    <tr>\n",
       "      <th>10</th>\n",
       "      <td>None</td>\n",
       "      <td>&lt;temijohnson2@rediffmail.com&gt;</td>\n",
       "      <td>R@</td>\n",
       "      <td></td>\n",
       "      <td>6 Nov 2001</td>\n",
       "      <td>IMPORTANT</td>\n",
       "      <td>FROM: MR TEMI JOHNSON\\nDEMOCRATIC REPUBLIC OF ...</td>\n",
       "    </tr>\n",
       "    <tr>\n",
       "      <th>11</th>\n",
       "      <td>\"Dr.Sam jordan\"</td>\n",
       "      <td>&lt;sjordan@diplomats.com&gt;</td>\n",
       "      <td>R@</td>\n",
       "      <td></td>\n",
       "      <td>08 Nov 2002</td>\n",
       "      <td>URGENT ASSISTANCE.</td>\n",
       "      <td>FROM THE DESK OF DR.SAM JORDAN\\nTHE MANAGER\\nH...</td>\n",
       "    </tr>\n",
       "    <tr>\n",
       "      <th>12</th>\n",
       "      <td>None</td>\n",
       "      <td>None</td>\n",
       "      <td>p_brown2@</td>\n",
       "      <td></td>\n",
       "      <td>8 Nov 2002</td>\n",
       "      <td>From: Barrister Peter Brown</td>\n",
       "      <td>\\nSENIOR ADVOCATE OF NIGERIA\\nBARR. PETER BROW...</td>\n",
       "    </tr>\n",
       "    <tr>\n",
       "      <th>13</th>\n",
       "      <td>None</td>\n",
       "      <td>None</td>\n",
       "      <td>R@</td>\n",
       "      <td></td>\n",
       "      <td>11 Nov 2002</td>\n",
       "      <td>MICHAEL</td>\n",
       "      <td>From;Mr.Michael Kamah and Family,\\n          J...</td>\n",
       "    </tr>\n",
       "    <tr>\n",
       "      <th>14</th>\n",
       "      <td>\"COL. MICHAEL BUNDU\"</td>\n",
       "      <td>&lt;mikebunduu1@rediffmail.com&gt;</td>\n",
       "      <td>R@</td>\n",
       "      <td></td>\n",
       "      <td>13 Nov 2001</td>\n",
       "      <td>*****SPAM***** IMPORTANT</td>\n",
       "      <td>FROM: COL. MICHAEL BUNDU. \\nDEMOCRATIC REPUBLI...</td>\n",
       "    </tr>\n",
       "    <tr>\n",
       "      <th>15</th>\n",
       "      <td>\"MRS MARIAM ABACHA\"</td>\n",
       "      <td>&lt;elixwilliam@usa.com&gt;</td>\n",
       "      <td>presidentwifeng@</td>\n",
       "      <td></td>\n",
       "      <td>14 Nov 2002</td>\n",
       "      <td>TRUST TRANSACTION</td>\n",
       "      <td>Dear Sir,\\n\\nA Very Good day to you   \\n\\nI am...</td>\n",
       "    </tr>\n",
       "    <tr>\n",
       "      <th>16</th>\n",
       "      <td>\" DR. ANAYO AWKA \"</td>\n",
       "      <td>&lt;anayoawka@hotmail.com&gt;</td>\n",
       "      <td>webmaster@</td>\n",
       "      <td></td>\n",
       "      <td>15 Nov 2002</td>\n",
       "      <td>REQUEST FOR YOUR UNRESERVED ASSISTANCE</td>\n",
       "      <td>FROM: DR. ANAYO AWKA BANK MANAGER \\n(UNION BAN...</td>\n",
       "    </tr>\n",
       "    <tr>\n",
       "      <th>17</th>\n",
       "      <td>\" DR. ANAYO AWKA \"</td>\n",
       "      <td>&lt;anayoawka@hotmail.com&gt;</td>\n",
       "      <td>webmaster@</td>\n",
       "      <td></td>\n",
       "      <td>15 Nov 2002</td>\n",
       "      <td>REQUEST FOR YOUR UNRESERVED ASSISTANCE</td>\n",
       "      <td>FROM: DR. ANAYO AWKA BANK MANAGER \\n(UNION BAN...</td>\n",
       "    </tr>\n",
       "    <tr>\n",
       "      <th>18</th>\n",
       "      <td>\"Victor Aloma\"</td>\n",
       "      <td>&lt;victorloma@netscape.net&gt;</td>\n",
       "      <td>None</td>\n",
       "      <td></td>\n",
       "      <td>16 Nov 2002</td>\n",
       "      <td>Urgent Assistance</td>\n",
       "      <td>The Director,\\n\\n\\n\\n            SEEKING FOR I...</td>\n",
       "    </tr>\n",
       "    <tr>\n",
       "      <th>19</th>\n",
       "      <td>\"Victor Aloma\"</td>\n",
       "      <td>&lt;victorloma@netscape.net&gt;</td>\n",
       "      <td>None</td>\n",
       "      <td></td>\n",
       "      <td>16 Nov 2002</td>\n",
       "      <td>Urgent Assistance</td>\n",
       "      <td>The Director,\\n\\n\\n\\n            SEEKING FOR I...</td>\n",
       "    </tr>\n",
       "  </tbody>\n",
       "</table>\n",
       "</div>"
      ],
      "text/plain": [
       "                    send_name                     send_address  \\\n",
       "0          \"MR. JAMES NGOLA.\"    <james_ngola2002@maktoob.com>   \n",
       "1           \"Mr. Ben Suleman\"   <bensul2004nng@spinfinder.com>   \n",
       "2        \"PRINCE OBONG ELEME\"           <obong_715@epatra.com>   \n",
       "3        \"PRINCE OBONG ELEME\"           <obong_715@epatra.com>   \n",
       "4             \"Maryam Abacha\"             <m_abacha03@www.com>   \n",
       "5                        None         <davidkuta@postmark.net>   \n",
       "6    \"Barrister tunde dosumu\"         <tunde_dosumu@lycos.com>   \n",
       "7            \"William Drallo\"  <william2244drallo@maktoob.com>   \n",
       "8            \"MR USMAN ABDUL\"       <abdul_817@rediffmail.com>   \n",
       "9             \"Tunde  Dosumu\"         <barrister_td@lycos.com>   \n",
       "10                       None    <temijohnson2@rediffmail.com>   \n",
       "11            \"Dr.Sam jordan\"          <sjordan@diplomats.com>   \n",
       "12                       None                             None   \n",
       "13                       None                             None   \n",
       "14       \"COL. MICHAEL BUNDU\"     <mikebunduu1@rediffmail.com>   \n",
       "15        \"MRS MARIAM ABACHA\"            <elixwilliam@usa.com>   \n",
       "16         \" DR. ANAYO AWKA \"          <anayoawka@hotmail.com>   \n",
       "17         \" DR. ANAYO AWKA \"          <anayoawka@hotmail.com>   \n",
       "18             \"Victor Aloma\"        <victorloma@netscape.net>   \n",
       "19             \"Victor Aloma\"        <victorloma@netscape.net>   \n",
       "\n",
       "           receive_name receive_address         Date  \\\n",
       "0      james_ngola2002@                  31 Oct 2002   \n",
       "1                    R@                  31 Oct 2002   \n",
       "2            obong_715@                  31 Oct 2002   \n",
       "3            webmaster@                  31 Oct 2002   \n",
       "4           m_abacha03@                   1 Nov 2002   \n",
       "5            davidkuta@                  02 Nov 2002   \n",
       "6         tunde_dosumu@                         None   \n",
       "7    william2244drallo@                   3 Nov 2002   \n",
       "8                    R@                  04 Nov 2002   \n",
       "9         barrister_td@                         None   \n",
       "10                   R@                   6 Nov 2001   \n",
       "11                   R@                  08 Nov 2002   \n",
       "12            p_brown2@                   8 Nov 2002   \n",
       "13                   R@                  11 Nov 2002   \n",
       "14                   R@                  13 Nov 2001   \n",
       "15     presidentwifeng@                  14 Nov 2002   \n",
       "16           webmaster@                  15 Nov 2002   \n",
       "17           webmaster@                  15 Nov 2002   \n",
       "18                 None                  16 Nov 2002   \n",
       "19                 None                  16 Nov 2002   \n",
       "\n",
       "                                       Subject  \\\n",
       "0   URGENT BUSINESS ASSISTANCE AND PARTNERSHIP   \n",
       "1          URGENT ASSISTANCE /RELATIONSHIP (P)   \n",
       "2                              GOOD DAY TO YOU   \n",
       "3                              GOOD DAY TO YOU   \n",
       "4                      I Need Your Assistance.   \n",
       "5                                  Partnership   \n",
       "6                             Urgent Attention   \n",
       "7                      URGENT BUSINESS PRPOSAL   \n",
       "8                                    THANK YOU   \n",
       "9                            Urgent Assistance   \n",
       "10                                   IMPORTANT   \n",
       "11                          URGENT ASSISTANCE.   \n",
       "12                 From: Barrister Peter Brown   \n",
       "13                                     MICHAEL   \n",
       "14                    *****SPAM***** IMPORTANT   \n",
       "15                           TRUST TRANSACTION   \n",
       "16      REQUEST FOR YOUR UNRESERVED ASSISTANCE   \n",
       "17      REQUEST FOR YOUR UNRESERVED ASSISTANCE   \n",
       "18                           Urgent Assistance   \n",
       "19                           Urgent Assistance   \n",
       "\n",
       "                                           email_body  \n",
       "0   FROM:MR. JAMES NGOLA.\\nCONFIDENTIAL TEL: 233-2...  \n",
       "1   Dear Friend,\\n\\nI am Mr. Ben Suleman a custom ...  \n",
       "2   FROM HIS ROYAL MAJESTY (HRM) CROWN RULER OF EL...  \n",
       "3   FROM HIS ROYAL MAJESTY (HRM) CROWN RULER OF EL...  \n",
       "4   Dear sir, \\n \\nIt is with a heart full of hope...  \n",
       "5   ATTENTION:                                    ...  \n",
       "6   Dear Sir,\\n\\nI am Barrister Tunde Dosumu (SAN)...  \n",
       "7   FROM: WILLIAM DRALLO.\\nCONFIDENTIAL TEL: 233-2...  \n",
       "8   CHALLENGE SECURITIES LTD.\\nLAGOS, NIGERIA\\n\\n\\...  \n",
       "9   Dear Sir,\\n\\nI am Barrister Tunde Dosumu (SAN)...  \n",
       "10  FROM: MR TEMI JOHNSON\\nDEMOCRATIC REPUBLIC OF ...  \n",
       "11  FROM THE DESK OF DR.SAM JORDAN\\nTHE MANAGER\\nH...  \n",
       "12  \\nSENIOR ADVOCATE OF NIGERIA\\nBARR. PETER BROW...  \n",
       "13  From;Mr.Michael Kamah and Family,\\n          J...  \n",
       "14  FROM: COL. MICHAEL BUNDU. \\nDEMOCRATIC REPUBLI...  \n",
       "15  Dear Sir,\\n\\nA Very Good day to you   \\n\\nI am...  \n",
       "16  FROM: DR. ANAYO AWKA BANK MANAGER \\n(UNION BAN...  \n",
       "17  FROM: DR. ANAYO AWKA BANK MANAGER \\n(UNION BAN...  \n",
       "18  The Director,\\n\\n\\n\\n            SEEKING FOR I...  \n",
       "19  The Director,\\n\\n\\n\\n            SEEKING FOR I...  "
      ]
     },
     "execution_count": 227,
     "metadata": {},
     "output_type": "execute_result"
    }
   ],
   "source": [
    "#將處理結果轉化為dataframe\n",
    "emails_df = pd.DataFrame(emails_list)\n",
    "emails_df"
   ]
  },
  {
   "cell_type": "code",
   "execution_count": null,
   "metadata": {},
   "outputs": [],
   "source": []
  }
 ],
 "metadata": {
  "colab": {
   "name": "Python_regular_expression_作業.ipynb",
   "provenance": []
  },
  "kernelspec": {
   "display_name": "Python 3",
   "language": "python",
   "name": "python3"
  },
  "language_info": {
   "codemirror_mode": {
    "name": "ipython",
    "version": 3
   },
   "file_extension": ".py",
   "mimetype": "text/x-python",
   "name": "python",
   "nbconvert_exporter": "python",
   "pygments_lexer": "ipython3",
   "version": "3.8.3"
  }
 },
 "nbformat": 4,
 "nbformat_minor": 4
}
