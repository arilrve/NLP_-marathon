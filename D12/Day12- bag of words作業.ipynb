{
 "cells": [
  {
   "cell_type": "markdown",
   "metadata": {},
   "source": [
    "## 作業目標：搭建一個bag of words模型"
   ]
  },
  {
   "cell_type": "markdown",
   "metadata": {},
   "source": [
    "---"
   ]
  },
  {
   "cell_type": "code",
   "execution_count": 1,
   "metadata": {},
   "outputs": [],
   "source": [
    "import pandas as pd\n",
    "import nltk\n",
    "#nltk.download()\n",
    "import numpy as np\n",
    "dataset=pd.read_csv('Restaurant_Reviews.tsv',delimiter='\\t',quoting=3)\n",
    "corpus=dataset['Review'].values"
   ]
  },
  {
   "cell_type": "markdown",
   "metadata": {},
   "source": [
    "### 從文本中取出所有單字"
   ]
  },
  {
   "cell_type": "code",
   "execution_count": 3,
   "metadata": {},
   "outputs": [],
   "source": [
    "whole_words = []\n",
    "for sentence in corpus:\n",
    "    tokenized_sentence = nltk.tokenize.word_tokenize(sentence)\n",
    "    for word in tokenized_sentence:\n",
    "        whole_words.append(word)"
   ]
  },
  {
   "cell_type": "markdown",
   "metadata": {},
   "source": [
    "### 移除重複單字"
   ]
  },
  {
   "cell_type": "code",
   "execution_count": 5,
   "metadata": {},
   "outputs": [
    {
     "name": "stdout",
     "output_type": "stream",
     "text": [
      "共有2351個單字\n"
     ]
    }
   ],
   "source": [
    "whole_words = set(whole_words)\n",
    "print('共有{}個單字'.format(len(whole_words)))"
   ]
  },
  {
   "cell_type": "markdown",
   "metadata": {},
   "source": [
    "### 建立字典使每一個單字有對應數值"
   ]
  },
  {
   "cell_type": "code",
   "execution_count": 12,
   "metadata": {},
   "outputs": [],
   "source": [
    "word_index = {}\n",
    "index_word = {}\n",
    "n = 0\n",
    "for word in whole_words:\n",
    "    word_index.update({word:n})\n",
    "    index_word.update({n:word})\n",
    "    n +=1"
   ]
  },
  {
   "cell_type": "code",
   "execution_count": 13,
   "metadata": {},
   "outputs": [
    {
     "data": {
      "text/plain": [
       "[('On', 0),\n",
       " ('via', 1),\n",
       " ('waste', 2),\n",
       " ('single', 3),\n",
       " ('Which', 4),\n",
       " ('MGM', 5),\n",
       " ('roast', 6),\n",
       " ('spices', 7),\n",
       " ('Stopped', 8),\n",
       " ('pulled', 9)]"
      ]
     },
     "execution_count": 13,
     "metadata": {},
     "output_type": "execute_result"
    }
   ],
   "source": [
    "list(word_index.items())[:10]"
   ]
  },
  {
   "cell_type": "code",
   "execution_count": 14,
   "metadata": {},
   "outputs": [
    {
     "data": {
      "text/plain": [
       "[(0, 'On'),\n",
       " (1, 'via'),\n",
       " (2, 'waste'),\n",
       " (3, 'single'),\n",
       " (4, 'Which'),\n",
       " (5, 'MGM'),\n",
       " (6, 'roast'),\n",
       " (7, 'spices'),\n",
       " (8, 'Stopped'),\n",
       " (9, 'pulled')]"
      ]
     },
     "execution_count": 14,
     "metadata": {},
     "output_type": "execute_result"
    }
   ],
   "source": [
    "list(index_word.items())[:10]"
   ]
  },
  {
   "cell_type": "markdown",
   "metadata": {},
   "source": [
    "## 轉換句子為bag of words型式"
   ]
  },
  {
   "cell_type": "code",
   "execution_count": 21,
   "metadata": {},
   "outputs": [],
   "source": [
    "def _get_bag_of_words_vector(sentence, word_index_dic, whole_words):\n",
    "    sentence = sentence\n",
    "    vector = np.zeros(len(whole_words))\n",
    "    \n",
    "    for word in nltk.word_tokenize(sentence):\n",
    "        if word in whole_words:\n",
    "            vector[word_index_dic[word]]+=1\n",
    "    return vector\n"
   ]
  },
  {
   "cell_type": "code",
   "execution_count": 22,
   "metadata": {},
   "outputs": [
    {
     "data": {
      "text/plain": [
       "array([0., 0., 0., ..., 0., 0., 0.])"
      ]
     },
     "execution_count": 22,
     "metadata": {},
     "output_type": "execute_result"
    }
   ],
   "source": [
    "_get_bag_of_words_vector('Wow... Loved this place.', word_index, whole_words)"
   ]
  }
 ],
 "metadata": {
  "kernelspec": {
   "display_name": "Python 3",
   "language": "python",
   "name": "python3"
  },
  "language_info": {
   "codemirror_mode": {
    "name": "ipython",
    "version": 3
   },
   "file_extension": ".py",
   "mimetype": "text/x-python",
   "name": "python",
   "nbconvert_exporter": "python",
   "pygments_lexer": "ipython3",
   "version": "3.8.6"
  }
 },
 "nbformat": 4,
 "nbformat_minor": 4
}
