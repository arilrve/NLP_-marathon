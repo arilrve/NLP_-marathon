{
 "cells": [
  {
   "cell_type": "markdown",
   "metadata": {},
   "source": [
    "### 載入所需的Libraries"
   ]
  },
  {
   "cell_type": "code",
   "execution_count": 43,
   "metadata": {},
   "outputs": [],
   "source": [
    "import re\n",
    "import pandas as pd\n",
    "import numpy as np\n",
    "import matplotlib.pyplot as plt\n",
    "from sklearn.model_selection import train_test_split\n",
    "from sklearn.feature_extraction.text import TfidfVectorizer\n",
    "from sklearn.decomposition import TruncatedSVD\n",
    "from typing import List"
   ]
  },
  {
   "cell_type": "code",
   "execution_count": 44,
   "metadata": {},
   "outputs": [
    {
     "data": {
      "text/plain": [
       "{'encoding': 'Windows-1252', 'confidence': 0.7270322499829184, 'language': ''}"
      ]
     },
     "execution_count": 44,
     "metadata": {},
     "output_type": "execute_result"
    }
   ],
   "source": [
    "# 偵測文件格式\n",
    "\n",
    "import chardet\n",
    "file = 'spam.csv'\n",
    "with open(file, 'rb') as rawdata:\n",
    "    result = chardet.detect(rawdata.read(100000))\n",
    "result"
   ]
  },
  {
   "cell_type": "markdown",
   "metadata": {},
   "source": [
    "### 載入資料"
   ]
  },
  {
   "cell_type": "code",
   "execution_count": 49,
   "metadata": {},
   "outputs": [
    {
     "data": {
      "text/html": [
       "<div>\n",
       "<style scoped>\n",
       "    .dataframe tbody tr th:only-of-type {\n",
       "        vertical-align: middle;\n",
       "    }\n",
       "\n",
       "    .dataframe tbody tr th {\n",
       "        vertical-align: top;\n",
       "    }\n",
       "\n",
       "    .dataframe thead th {\n",
       "        text-align: right;\n",
       "    }\n",
       "</style>\n",
       "<table border=\"1\" class=\"dataframe\">\n",
       "  <thead>\n",
       "    <tr style=\"text-align: right;\">\n",
       "      <th></th>\n",
       "      <th>label</th>\n",
       "      <th>content</th>\n",
       "    </tr>\n",
       "  </thead>\n",
       "  <tbody>\n",
       "    <tr>\n",
       "      <th>0</th>\n",
       "      <td>ham</td>\n",
       "      <td>Go until jurong point, crazy.. Available only ...</td>\n",
       "    </tr>\n",
       "    <tr>\n",
       "      <th>1</th>\n",
       "      <td>ham</td>\n",
       "      <td>Ok lar... Joking wif u oni...</td>\n",
       "    </tr>\n",
       "    <tr>\n",
       "      <th>2</th>\n",
       "      <td>spam</td>\n",
       "      <td>Free entry in 2 a wkly comp to win FA Cup fina...</td>\n",
       "    </tr>\n",
       "    <tr>\n",
       "      <th>3</th>\n",
       "      <td>ham</td>\n",
       "      <td>U dun say so early hor... U c already then say...</td>\n",
       "    </tr>\n",
       "    <tr>\n",
       "      <th>4</th>\n",
       "      <td>ham</td>\n",
       "      <td>Nah I don't think he goes to usf, he lives aro...</td>\n",
       "    </tr>\n",
       "  </tbody>\n",
       "</table>\n",
       "</div>"
      ],
      "text/plain": [
       "  label                                            content\n",
       "0   ham  Go until jurong point, crazy.. Available only ...\n",
       "1   ham                      Ok lar... Joking wif u oni...\n",
       "2  spam  Free entry in 2 a wkly comp to win FA Cup fina...\n",
       "3   ham  U dun say so early hor... U c already then say...\n",
       "4   ham  Nah I don't think he goes to usf, he lives aro..."
      ]
     },
     "execution_count": 49,
     "metadata": {},
     "output_type": "execute_result"
    }
   ],
   "source": [
    "# read data from spam.csv\n",
    "\n",
    "sms_data = pd.read_csv(file , usecols=[0,1] , encoding='latin')\n",
    "sms_data.columns = ['label','content']\n",
    "sms_data.head()"
   ]
  },
  {
   "cell_type": "code",
   "execution_count": 50,
   "metadata": {},
   "outputs": [
    {
     "data": {
      "text/html": [
       "<div>\n",
       "<style scoped>\n",
       "    .dataframe tbody tr th:only-of-type {\n",
       "        vertical-align: middle;\n",
       "    }\n",
       "\n",
       "    .dataframe tbody tr th {\n",
       "        vertical-align: top;\n",
       "    }\n",
       "\n",
       "    .dataframe thead th {\n",
       "        text-align: right;\n",
       "    }\n",
       "</style>\n",
       "<table border=\"1\" class=\"dataframe\">\n",
       "  <thead>\n",
       "    <tr style=\"text-align: right;\">\n",
       "      <th></th>\n",
       "      <th>content</th>\n",
       "    </tr>\n",
       "    <tr>\n",
       "      <th>label</th>\n",
       "      <th></th>\n",
       "    </tr>\n",
       "  </thead>\n",
       "  <tbody>\n",
       "    <tr>\n",
       "      <th>ham</th>\n",
       "      <td>4825</td>\n",
       "    </tr>\n",
       "    <tr>\n",
       "      <th>spam</th>\n",
       "      <td>747</td>\n",
       "    </tr>\n",
       "  </tbody>\n",
       "</table>\n",
       "</div>"
      ],
      "text/plain": [
       "       content\n",
       "label         \n",
       "ham       4825\n",
       "spam       747"
      ]
     },
     "execution_count": 50,
     "metadata": {},
     "output_type": "execute_result"
    }
   ],
   "source": [
    "# check how many spams and hams\n",
    "sms_data.groupby('label').count()"
   ]
  },
  {
   "cell_type": "code",
   "execution_count": 56,
   "metadata": {},
   "outputs": [
    {
     "data": {
      "text/html": [
       "<div>\n",
       "<style scoped>\n",
       "    .dataframe tbody tr th:only-of-type {\n",
       "        vertical-align: middle;\n",
       "    }\n",
       "\n",
       "    .dataframe tbody tr th {\n",
       "        vertical-align: top;\n",
       "    }\n",
       "\n",
       "    .dataframe thead th {\n",
       "        text-align: right;\n",
       "    }\n",
       "</style>\n",
       "<table border=\"1\" class=\"dataframe\">\n",
       "  <thead>\n",
       "    <tr style=\"text-align: right;\">\n",
       "      <th></th>\n",
       "      <th>label</th>\n",
       "      <th>content</th>\n",
       "    </tr>\n",
       "  </thead>\n",
       "  <tbody>\n",
       "    <tr>\n",
       "      <th>0</th>\n",
       "      <td>0</td>\n",
       "      <td>Go until jurong point, crazy.. Available only ...</td>\n",
       "    </tr>\n",
       "    <tr>\n",
       "      <th>1</th>\n",
       "      <td>0</td>\n",
       "      <td>Ok lar... Joking wif u oni...</td>\n",
       "    </tr>\n",
       "    <tr>\n",
       "      <th>2</th>\n",
       "      <td>1</td>\n",
       "      <td>Free entry in 2 a wkly comp to win FA Cup fina...</td>\n",
       "    </tr>\n",
       "    <tr>\n",
       "      <th>3</th>\n",
       "      <td>0</td>\n",
       "      <td>U dun say so early hor... U c already then say...</td>\n",
       "    </tr>\n",
       "    <tr>\n",
       "      <th>4</th>\n",
       "      <td>0</td>\n",
       "      <td>Nah I don't think he goes to usf, he lives aro...</td>\n",
       "    </tr>\n",
       "  </tbody>\n",
       "</table>\n",
       "</div>"
      ],
      "text/plain": [
       "  label                                            content\n",
       "0     0  Go until jurong point, crazy.. Available only ...\n",
       "1     0                      Ok lar... Joking wif u oni...\n",
       "2     1  Free entry in 2 a wkly comp to win FA Cup fina...\n",
       "3     0  U dun say so early hor... U c already then say...\n",
       "4     0  Nah I don't think he goes to usf, he lives aro..."
      ]
     },
     "execution_count": 56,
     "metadata": {},
     "output_type": "execute_result"
    }
   ],
   "source": [
    "# change label to from string to number\n",
    "# \"ham\" --> 0, \"spam\" --> 1\n",
    "sms_data.loc[sms_data.loc[: ,'label']== 'spam','label']=1\n",
    "sms_data.loc[sms_data.loc[: ,'label']== 'ham','label']=0\n",
    "sms_data.head()"
   ]
  },
  {
   "cell_type": "markdown",
   "metadata": {},
   "source": [
    "### 切分資料\n",
    "將資料依據label比例切分為training data與testing data"
   ]
  },
  {
   "cell_type": "code",
   "execution_count": 65,
   "metadata": {},
   "outputs": [
    {
     "name": "stdout",
     "output_type": "stream",
     "text": [
      "       content\n",
      "label         \n",
      "0         3859\n",
      "1          598\n",
      "       content\n",
      "label         \n",
      "0          966\n",
      "1          149\n"
     ]
    }
   ],
   "source": [
    "sms_train, sms_test = train_test_split(sms_data ,test_size = 0.2 ,stratify = sms_data.label)\n",
    "sms_train.reset_index(inplace=True, drop=True)\n",
    "sms_test.reset_index(inplace=True, drop=True)\n",
    "\n",
    "print(sms_train.groupby(\"label\").count())\n",
    "print(sms_test.groupby(\"label\").count())"
   ]
  },
  {
   "cell_type": "markdown",
   "metadata": {},
   "source": [
    "### 資料預處理\n",
    "* 將所有字詞轉為小寫\n",
    "* 移除所有數字、標點符號"
   ]
  },
  {
   "cell_type": "code",
   "execution_count": 66,
   "metadata": {
    "scrolled": true
   },
   "outputs": [
    {
     "name": "stderr",
     "output_type": "stream",
     "text": [
      "C:\\Users\\EN\\anaconda3\\envs\\NLP\\lib\\site-packages\\pandas\\core\\indexing.py:670: SettingWithCopyWarning: \n",
      "A value is trying to be set on a copy of a slice from a DataFrame\n",
      "\n",
      "See the caveats in the documentation: https://pandas.pydata.org/pandas-docs/stable/user_guide/indexing.html#returning-a-view-versus-a-copy\n",
      "  iloc._setitem_with_indexer(indexer, value)\n",
      "<ipython-input-66-5745a2cb9b8f>:9: SettingWithCopyWarning: \n",
      "A value is trying to be set on a copy of a slice from a DataFrame\n",
      "\n",
      "See the caveats in the documentation: https://pandas.pydata.org/pandas-docs/stable/user_guide/indexing.html#returning-a-view-versus-a-copy\n",
      "  df.loc[i, 'content'] = content\n"
     ]
    },
    {
     "name": "stdout",
     "output_type": "stream",
     "text": [
      "Train:\n",
      "  label                                            content\n",
      "0     0                     i think i am disturbing her da\n",
      "1     0           i m not coming over do whatever you want\n",
      "2     0  designation is software developer and may be s...\n",
      "3     0                           lmao you know me so well\n",
      "4     0                           k k advance happy pongal\n",
      "Test:\n",
      "  label                                            content\n",
      "0     0  hi there we have now moved in our pub would be...\n",
      "1     0                      true its easier with her here\n",
      "2     0  pick you up bout ish what time are and that going\n",
      "3     0          lt gt that s all guess that s easy enough\n",
      "4     0  hi hun im not comin nite tell every im sorry m...\n"
     ]
    }
   ],
   "source": [
    "def preprocess(df: pd.DataFrame) -> pd.DataFrame:\n",
    "    \n",
    "    for i in range(len(df)):\n",
    "        # make all content to lowercase\n",
    "        content = df.loc[i ,'content'].lower()\n",
    "\n",
    "        # remove all punctuations\n",
    "        content = \" \".join([word for word in re.findall(r\"[a-zA-Z]*\", content) if word != \"\"])\n",
    "        df.loc[i, 'content'] = content\n",
    "        \n",
    "    return df\n",
    "\n",
    "processed_train = preprocess(sms_train)\n",
    "processed_test = preprocess(sms_test)\n",
    "\n",
    "print(\"Train:\")\n",
    "print(processed_train.head())\n",
    "print(\"Test:\")\n",
    "print(processed_test.head())"
   ]
  },
  {
   "cell_type": "code",
   "execution_count": 67,
   "metadata": {},
   "outputs": [
    {
     "data": {
      "text/plain": [
       "7708"
      ]
     },
     "execution_count": 67,
     "metadata": {},
     "output_type": "execute_result"
    }
   ],
   "source": [
    "# split data into x_train, y_train, x_test, y_test\n",
    "y_train, x_train = zip(*processed_train.values)\n",
    "y_test, x_test = zip(*processed_test.values)\n",
    "\n",
    "# check numbers of unique word in the corpus\n",
    "len(set(\" \".join(list(x_train + x_test)).split()))"
   ]
  },
  {
   "cell_type": "markdown",
   "metadata": {},
   "source": [
    "### TF-IDF\n",
    "可以發現種共有7708個字詞，這裡使用TF-IDF將來選取最高分的前2000個字詞\n",
    "(若忘記的學員可參考先前TF-IDF課程章節或[此篇教學](https://ithelp.ithome.com.tw/articles/10228815?sc=iThelpR))"
   ]
  },
  {
   "cell_type": "code",
   "execution_count": 72,
   "metadata": {},
   "outputs": [
    {
     "name": "stdout",
     "output_type": "stream",
     "text": [
      "Number of unique word: 2000\n"
     ]
    },
    {
     "data": {
      "text/plain": [
       "(<4457x2000 sparse matrix of type '<class 'numpy.float64'>'\n",
       " \twith 51049 stored elements in Compressed Sparse Row format>,\n",
       " <4457x2000 sparse matrix of type '<class 'numpy.float64'>'\n",
       " \twith 51049 stored elements in Compressed Sparse Row format>)"
      ]
     },
     "execution_count": 72,
     "metadata": {},
     "output_type": "execute_result"
    }
   ],
   "source": [
    "vectorizer = TfidfVectorizer(max_features = 2000)\n",
    "\n",
    "vectorizer.fit(x_train)\n",
    "\n",
    "tfidf_train = vectorizer.transform(x_train)\n",
    "tfidf_test = vectorizer.transform(x_train)\n",
    "\n",
    "print(f\"Number of unique word: {len(vectorizer.vocabulary_)}\")\n",
    "(tfidf_train, tfidf_test)"
   ]
  },
  {
   "cell_type": "markdown",
   "metadata": {},
   "source": [
    "### 建立共現矩陣"
   ]
  },
  {
   "cell_type": "code",
   "execution_count": 81,
   "metadata": {},
   "outputs": [
    {
     "name": "stdout",
     "output_type": "stream",
     "text": [
      "finishing 501/4457\n",
      "finishing 1001/4457\n",
      "finishing 1501/4457\n",
      "finishing 2001/4457\n",
      "finishing 2501/4457\n",
      "finishing 3001/4457\n",
      "finishing 3501/4457\n",
      "finishing 4001/4457\n",
      "Done\n"
     ]
    },
    {
     "data": {
      "text/plain": [
       "array([[1, 0, 0, ..., 0, 0, 0],\n",
       "       [0, 1, 0, ..., 0, 0, 0],\n",
       "       [0, 0, 1, ..., 0, 0, 0],\n",
       "       ...,\n",
       "       [0, 0, 0, ..., 1, 0, 0],\n",
       "       [0, 0, 0, ..., 0, 1, 0],\n",
       "       [0, 0, 0, ..., 0, 0, 1]])"
      ]
     },
     "execution_count": 81,
     "metadata": {},
     "output_type": "execute_result"
    }
   ],
   "source": [
    "def create_co_matrix(corpus: List[str], vocab_list: List[str], word2idx: dict,\n",
    "                     window_size: int=1, use_weighting: bool=False, verbose: bool=False) -> np.ndarray:\n",
    "    '''Function to create co-occurrence matrix\n",
    "    '''\n",
    "    #initialize co-occurrence matrix\n",
    "    vocab_size = len(vocab_list)\n",
    "    co_matrix = np.zeros(shape=(vocab_size, vocab_size), dtype=np.int32)\n",
    "    \n",
    "    for idx, sms in enumerate(corpus):\n",
    "        sms = sms.split()\n",
    "        sms_ids = [word2idx[word] for word in sms if word in vocab_list]\n",
    "       \n",
    "        \n",
    "        for center_i, center_word_id in enumerate(sms_ids):\n",
    "            context_ids = sms_ids[max(0, center_i - window_size):center_word_id]\n",
    "            content_len = len(context_ids)\n",
    "            \n",
    "            for left_i, left_word_id in enumerate(context_ids):\n",
    "                if use_weighting : \n",
    "                    \n",
    "                    distance = content_len - left_i\n",
    "                    increment = 1./float(distance)\n",
    "                    \n",
    "                else : \n",
    "                    increment = 1\n",
    "                    \n",
    "                co_matrix[center_word_id, left_word_id] += increment\n",
    "                co_matrix[left_word_id, center_word_id] += increment\n",
    "                \n",
    "        if verbose:\n",
    "            if idx != 0 and idx%500 == 0:\n",
    "                    print(f\"finishing {idx+1}/{len(corpus)}\")\n",
    "    print(\"Done\")\n",
    "    if use_weighting:\n",
    "        # if use weighting, then we set the co-occurrence with the word itself to 1.0 \n",
    "        np.fill_diagonal(co_matrix, 1.) # numpy.fill_diagonal（a，val，wrap = False ）\n",
    "                                        # np.fill_diagonal(a, 5)\n",
    "                                        # array([[5, 0, 0],\n",
    "                                        #        [0, 5, 0],\n",
    "                                        #        [0, 0, 5]])\n",
    "        \n",
    "    return co_matrix\n",
    "\n",
    "co_matrix = create_co_matrix(x_train, vectorizer.get_feature_names(), vectorizer.vocabulary_,\n",
    "                            window_size=3, use_weighting=True, verbose=True)\n",
    "\n",
    "co_matrix"
   ]
  },
  {
   "cell_type": "markdown",
   "metadata": {},
   "source": [
    "### 建立PPMI矩陣"
   ]
  },
  {
   "cell_type": "code",
   "execution_count": 83,
   "metadata": {},
   "outputs": [
    {
     "name": "stderr",
     "output_type": "stream",
     "text": [
      "<ipython-input-83-35f24a5ddd75>:13: RuntimeWarning: divide by zero encountered in log2\n",
      "  pmi = np.log2(co_matrix[i, j]*N / (S[i]*S[j] + eps))\n"
     ]
    },
    {
     "data": {
      "text/plain": [
       "array([[16.661278,  0.      ,  0.      , ...,  0.      ,  0.      ,\n",
       "         0.      ],\n",
       "       [ 0.      ,  8.017421,  0.      , ...,  0.      ,  0.      ,\n",
       "         0.      ],\n",
       "       [ 0.      ,  0.      ,  2.281628, ...,  0.      ,  0.      ,\n",
       "         0.      ],\n",
       "       ...,\n",
       "       [ 0.      ,  0.      ,  0.      , ..., 11.491352,  0.      ,\n",
       "         0.      ],\n",
       "       [ 0.      ,  0.      ,  0.      , ...,  0.      ,  6.945315,\n",
       "         0.      ],\n",
       "       [ 0.      ,  0.      ,  0.      , ...,  0.      ,  0.      ,\n",
       "        12.017421]], dtype=float32)"
      ]
     },
     "execution_count": 83,
     "metadata": {},
     "output_type": "execute_result"
    }
   ],
   "source": [
    "#定義正向點間互資訊\n",
    "\n",
    "def ppmi(co_matrix: np.ndarray, eps: float=1e-8, verbose: bool=False):\n",
    "    \n",
    "    #建立初始ppmi矩陣\n",
    "    M = np.zeros_like(co_matrix, dtype=np.float32)\n",
    "    \n",
    "    #取得所有字詞出現次數\n",
    "    N = np.sum(co_matrix)\n",
    "    S = np.sum(co_matrix, axis=0)\n",
    "    total = co_matrix.shape[0]*co_matrix.shape[1]\n",
    "    \n",
    "    cnt = 0\n",
    "    \n",
    "    for i in range(co_matrix.shape[0]):\n",
    "        for j in range(co_matrix.shape[1]):\n",
    "            pmi = np.log2(co_matrix[i, j]*N / (S[i]*S[j] + eps))\n",
    "            M[i, j] = max(0, pmi)\n",
    "            \n",
    "            if verbose:\n",
    "                cnt += 1\n",
    "                if cnt % 10 == 0 or cnt == total:\n",
    "                    print(f\"{cnt}/{total} Done\")\n",
    "    \n",
    "    return M\n",
    "\n",
    "ppmi_matrix = ppmi(co_matrix, verbose=False)\n",
    "ppmi_matrix"
   ]
  },
  {
   "cell_type": "markdown",
   "metadata": {},
   "source": [
    "### 使用SVD降維\n",
    "利用sklearn中的TruncatedSVD對co-occurrence matrix進行降維，並利用variance來找出最適合的維度\n",
    "[參考文獻](https://medium.com/swlh/truncated-singular-value-decomposition-svd-using-amazon-food-reviews-891d97af5d8d)\n",
    "\n",
    "(讀者可以嘗試使用SVD對PPMI進行降維)"
   ]
  },
  {
   "cell_type": "code",
   "execution_count": 87,
   "metadata": {},
   "outputs": [
    {
     "data": {
      "image/png": "[encoded data removed]",
      "text/plain": [
       "<Figure size 432x288 with 1 Axes>"
      ]
     },
     "metadata": {
      "needs_background": "light"
     },
     "output_type": "display_data"
    }
   ],
   "source": [
    "# Program to find the optimal number of components for Truncated SVD\n",
    "n_comp = range(10,150,10) # list containing different values of components\n",
    "variance_sum = [] # explained variance ratio for each component of Truncated SVD\n",
    "\n",
    "for dim in n_comp:\n",
    "    svd = TruncatedSVD(n_components=dim)\n",
    "    svd.fit(co_matrix)\n",
    "    variance_sum.append(svd.explained_variance_ratio_.sum())\n",
    "    \n",
    "plt.plot(n_comp, variance_sum)\n",
    "plt.xlabel('Number of components')\n",
    "plt.ylabel(\"Explained Variance\")\n",
    "plt.title(\"Plot of Number of components v/s explained variance\")\n",
    "plt.show()"
   ]
  },
  {
   "cell_type": "code",
   "execution_count": 88,
   "metadata": {},
   "outputs": [],
   "source": [
    "# choose 140 as final dimension to reduce to \n",
    "# 利用上述找到的最適合dimension來對co-occurrence matrix進行降維\n",
    "svd = TruncatedSVD(n_components=140)\n",
    "svd.fit(co_matrix)\n",
    "re_co_matrix = svd.transform(co_matrix)"
   ]
  },
  {
   "cell_type": "markdown",
   "metadata": {},
   "source": [
    "### 使用KNN模型進行分類\n",
    "在進行分類之前，先利用簡單的詞向量平均來計算文本向量\n",
    "\n",
    "[參考文獻](https://medium.com/ai-academy-taiwan/nlp-%E4%B8%8D%E5%90%8C%E8%A9%9E%E5%90%91%E9%87%8F%E5%9C%A8%E6%96%87%E6%9C%AC%E5%88%86%E9%A1%9E%E4%B8%8A%E7%9A%84%E8%A1%A8%E7%8F%BE%E8%88%87%E5%AF%A6%E4%BD%9C-e72a2daecfc)"
   ]
  },
  {
   "cell_type": "code",
   "execution_count": 86,
   "metadata": {
    "scrolled": true
   },
   "outputs": [
    {
     "name": "stdout",
     "output_type": "stream",
     "text": [
      "document 1419 doesn't contain word in vocab_list\n",
      "erutupalam thandiyachu\n",
      "\n",
      "\n",
      "document 2131 doesn't contain word in vocab_list\n",
      "s antha num corrct dane\n",
      "\n",
      "\n",
      "document 2361 doesn't contain word in vocab_list\n",
      "tf p\n",
      "\n",
      "\n",
      "document 2534 doesn't contain word in vocab_list\n",
      "east coast\n",
      "\n",
      "\n",
      "document 2588 doesn't contain word in vocab_list\n",
      "k k congratulation\n",
      "\n",
      "\n",
      "document 2938 doesn't contain word in vocab_list\n",
      "hanks lotsly\n",
      "\n",
      "\n",
      "document 3149 doesn't contain word in vocab_list\n",
      "beerage\n",
      "\n",
      "\n",
      "document 3235 doesn't contain word in vocab_list\n",
      "\n",
      "\n",
      "\n",
      "document 3344 doesn't contain word in vocab_list\n",
      "ultimately tor motive tui achieve korli\n",
      "\n",
      "\n",
      "document 3446 doesn't contain word in vocab_list\n",
      "u\n",
      "\n",
      "\n",
      "document 3454 doesn't contain word in vocab_list\n",
      "garbage bags eggs jam bread hannaford wheat chex\n",
      "\n",
      "\n",
      "document 3818 doesn't contain word in vocab_list\n",
      "g w r\n",
      "\n",
      "\n",
      "document 4074 doesn't contain word in vocab_list\n",
      "raviyog peripherals bhayandar east\n",
      "\n",
      "\n",
      "document 4321 doesn't contain word in vocab_list\n",
      "ringtoneking\n",
      "\n",
      "\n",
      "==================================================\n",
      "document 96 doesn't contain word in vocab_list\n",
      "\n",
      "\n",
      "\n",
      "document 668 doesn't contain word in vocab_list\n",
      "audrie lousy autocorrect\n",
      "\n",
      "\n",
      "document 921 doesn't contain word in vocab_list\n",
      "\n",
      "\n",
      "\n"
     ]
    }
   ],
   "source": [
    "# get doc vector via take mean of all word vectors inside the corresponding document\n",
    "\n",
    "def make_doc_vectors(corpus: List[str], word2idx: dict, vocab_list: List) -> List[np.ndarray]:\n",
    "    \n",
    "    # vectorizing data \n",
    "    # and make document vector by take mean to all word vecto\n",
    "    doc_vec = []\n",
    "    empty_doc_list = []\n",
    "    for i, sms_msg in enumerate(corpus):\n",
    "        sms_msg = [word2idx[word] for word in sms_msg.split() if word in vocab_list] #tokenize\n",
    "        if len(sms_msg) > 0:\n",
    "            sms_msg = np.array([re_co_matrix[ids] for ids in sms_msg]) #vectorize\n",
    "            doc_vec.append(sms_msg.mean(axis=0))\n",
    "        else:\n",
    "            empty_doc_list.append(i)\n",
    "            print(f\"document {i} doesn't contain word in vocab_list\")\n",
    "            print(corpus[i])\n",
    "            print(\"\\n\")\n",
    "        \n",
    "    return np.vstack(doc_vec), empty_doc_list\n",
    "\n",
    "word2idx = vectorizer.vocabulary_\n",
    "vocab_list = vectorizer.get_feature_names()\n",
    "\n",
    "doc_vec_train, missing_train_list = make_doc_vectors(x_train, word2idx, vocab_list)\n",
    "print(\"=\"*50)\n",
    "doc_vec_test, missing_test_list = make_doc_vectors(x_test, word2idx, vocab_list)"
   ]
  },
  {
   "cell_type": "code",
   "execution_count": 89,
   "metadata": {},
   "outputs": [],
   "source": [
    "from sklearn.neighbors import KNeighborsClassifier\n",
    "\n",
    "\n",
    "# training\n",
    "y_train_filter = np.delete(np.array(y_train), missing_train_list)\n",
    "\n",
    "knn = KNeighborsClassifier(n_neighbors=5)\n",
    "knn.fit(doc_vec_train,y_train_filter)\n",
    "train_pred = knn.predict(doc_vec_train)\n",
    "\n",
    "# testing\n",
    "y_test_filter = np.delete(np.array(y_test), missing_test_list)\n",
    "test_pred = knn.predict(doc_vec_test)"
   ]
  },
  {
   "cell_type": "code",
   "execution_count": 90,
   "metadata": {},
   "outputs": [
    {
     "name": "stdout",
     "output_type": "stream",
     "text": [
      "train acc: 0.9745667341886113\n",
      "train acc: 0.9640287769784173\n"
     ]
    }
   ],
   "source": [
    "print(f\"train acc: {np.sum(train_pred == y_train_filter) / len(y_train_filter)}\")\n",
    "print(f\"train acc: {np.sum(test_pred == y_test_filter) / len(y_test_filter)}\")"
   ]
  }
 ],
 "metadata": {
  "kernelspec": {
   "display_name": "NLP",
   "language": "python",
   "name": "nlp"
  },
  "language_info": {
   "codemirror_mode": {
    "name": "ipython",
    "version": 3
   },
   "file_extension": ".py",
   "mimetype": "text/x-python",
   "name": "python",
   "nbconvert_exporter": "python",
   "pygments_lexer": "ipython3",
   "version": "3.8.5"
  }
 },
 "nbformat": 4,
 "nbformat_minor": 4
}
