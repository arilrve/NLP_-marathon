{
 "cells": [
  {
   "cell_type": "markdown",
   "metadata": {},
   "source": [
    "監督是學習\n",
    "優點 : 能夠十分輕易的評斷模型的優劣，因為訓練過程中有明確的正確答案可以供模型驗證，也可以針對自己想要的結果進行針對性的調整。\n",
    "缺點 : 一定要有資料標籤才能夠實現，否則在沒有正確答案提供模型參考的情況下，無法執行監督式機器學習，並且資料標籤算是資料整理中最複雜且麻煩的項目，大多需要人工前置準備。"
   ]
  },
  {
   "cell_type": "markdown",
   "metadata": {},
   "source": [
    "非監督是學習\n",
    "優點 : 可以大大減低繁瑣的人力工作，找出潛在的規則。\n",
    "缺點 : 但這樣的方式，也會造成較多功耗，甚至，也可能造成不具重要性的特徵（Feature) 被過度放大，導致結果偏誤、無意義的分群結果。"
   ]
  }
 ],
 "metadata": {
  "kernelspec": {
   "display_name": "NLP",
   "language": "python",
   "name": "nlp"
  },
  "language_info": {
   "codemirror_mode": {
    "name": "ipython",
    "version": 3
   },
   "file_extension": ".py",
   "mimetype": "text/x-python",
   "name": "python",
   "nbconvert_exporter": "python",
   "pygments_lexer": "ipython3",
   "version": "3.8.5"
  }
 },
 "nbformat": 4,
 "nbformat_minor": 4
}
